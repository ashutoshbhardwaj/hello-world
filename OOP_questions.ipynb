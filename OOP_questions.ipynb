{
  "nbformat": 4,
  "nbformat_minor": 0,
  "metadata": {
    "colab": {
      "name": "OOP_questions.ipynb",
      "provenance": [],
      "collapsed_sections": [],
      "authorship_tag": "ABX9TyPruBsUO52VDKZUPcj4/mxu",
      "include_colab_link": true
    },
    "kernelspec": {
      "name": "python3",
      "display_name": "Python 3"
    },
    "language_info": {
      "name": "python"
    }
  },
  "cells": [
    {
      "cell_type": "markdown",
      "metadata": {
        "id": "view-in-github",
        "colab_type": "text"
      },
      "source": [
        "<a href=\"https://colab.research.google.com/github/ashutoshbhardwaj/hello-world/blob/master/OOP_questions.ipynb\" target=\"_parent\"><img src=\"https://colab.research.google.com/assets/colab-badge.svg\" alt=\"Open In Colab\"/></a>"
      ]
    },
    {
      "cell_type": "code",
      "metadata": {
        "id": "NsRn5pCNeZeA"
      },
      "source": [
        "import pandas as pd"
      ],
      "execution_count": null,
      "outputs": []
    },
    {
      "cell_type": "code",
      "metadata": {
        "id": "ZBvdvcfFebOF"
      },
      "source": [
        "!pip install spyder   "
      ],
      "execution_count": null,
      "outputs": []
    },
    {
      "cell_type": "code",
      "metadata": {
        "id": "0iLB1jzNfHcO",
        "colab": {
          "base_uri": "https://localhost:8080/"
        },
        "outputId": "ec1bcfa8-a783-431c-f3a6-3cca9b03c6d5"
      },
      "source": [
        "import uuid, pprint\n",
        " \n",
        " \n",
        "class Product:\n",
        " \n",
        "    def __init__(self, product_name, price):\n",
        "        self.product_id = self.get_id()\n",
        "        self.product_name = product_name\n",
        "        self.price = price\n",
        " \n",
        "    def __repr__(self):\n",
        "        return f\"Product(product_name='{self.product_name}', price={self.price})\"\n",
        " \n",
        "    @staticmethod\n",
        "    def get_id():\n",
        "        return str(uuid.uuid4().fields[-1])[:6]\n",
        "pp = pprint.PrettyPrinter(indent=4)\n",
        "pp.pprint(Product.__dict__)"
      ],
      "execution_count": 13,
      "outputs": [
        {
          "output_type": "stream",
          "text": [
            "mappingproxy({   '__dict__': <attribute '__dict__' of 'Product' objects>,\n",
            "                 '__doc__': None,\n",
            "                 '__init__': <function Product.__init__ at 0x7f9824149e60>,\n",
            "                 '__module__': '__main__',\n",
            "                 '__repr__': <function Product.__repr__ at 0x7f9824149dd0>,\n",
            "                 '__weakref__': <attribute '__weakref__' of 'Product' objects>,\n",
            "                 'get_id': <staticmethod object at 0x7f9824133c50>})\n"
          ],
          "name": "stdout"
        }
      ]
    },
    {
      "cell_type": "markdown",
      "metadata": {
        "id": "NREssYt_fZux"
      },
      "source": [
        "# New section"
      ]
    },
    {
      "cell_type": "code",
      "metadata": {
        "colab": {
          "base_uri": "https://localhost:8080/"
        },
        "id": "fXezf_7ER2kX",
        "outputId": "88526f18-095d-4b03-8aca-03257700d28b"
      },
      "source": [
        "import datetime \n",
        "for item in datetime.__dict__:\n",
        "    print(item)"
      ],
      "execution_count": 3,
      "outputs": [
        {
          "output_type": "stream",
          "text": [
            "__name__\n",
            "__doc__\n",
            "__package__\n",
            "__loader__\n",
            "__spec__\n",
            "__file__\n",
            "__cached__\n",
            "__builtins__\n",
            "sys\n",
            "MINYEAR\n",
            "MAXYEAR\n",
            "timedelta\n",
            "date\n",
            "tzinfo\n",
            "time\n",
            "datetime\n",
            "timezone\n",
            "datetime_CAPI\n"
          ],
          "name": "stdout"
        }
      ]
    },
    {
      "cell_type": "code",
      "metadata": {
        "colab": {
          "base_uri": "https://localhost:8080/"
        },
        "id": "ED1SmhsrR3Ym",
        "outputId": "3638d6e4-a39c-4b5c-f1d0-5e0a5c8d6181"
      },
      "source": [
        "datetime.datetime"
      ],
      "execution_count": 4,
      "outputs": [
        {
          "output_type": "execute_result",
          "data": {
            "text/plain": [
              "datetime.datetime"
            ]
          },
          "metadata": {
            "tags": []
          },
          "execution_count": 4
        }
      ]
    },
    {
      "cell_type": "code",
      "metadata": {
        "colab": {
          "base_uri": "https://localhost:8080/"
        },
        "id": "CIYdAd7fSCZB",
        "outputId": "574f338e-3611-42a3-ff23-2d3d90a06657"
      },
      "source": [
        "import uuid\n",
        "\n",
        "\n",
        "class Product:\n",
        "\n",
        "    def __init__(self, product_name, product_id, price):\n",
        "        self.product_name = product_name\n",
        "        self.product_id = product_id\n",
        "        self.price = price\n",
        "\n",
        "    def __repr__(self):\n",
        "        return f\"Product(product_name='{self.product_name}', price={self.price})\"\n",
        "\n",
        "\n",
        "product = Product('Mobile Phone', '54274', 2900)\n",
        "product.__dict__"
      ],
      "execution_count": 8,
      "outputs": [
        {
          "output_type": "execute_result",
          "data": {
            "text/plain": [
              "{'price': 2900, 'product_id': '54274', 'product_name': 'Mobile Phone'}"
            ]
          },
          "metadata": {
            "tags": []
          },
          "execution_count": 8
        }
      ]
    }
  ]
}