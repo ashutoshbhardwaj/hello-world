{
  "nbformat": 4,
  "nbformat_minor": 0,
  "metadata": {
    "colab": {
      "name": "Untitled0.ipynb",
      "provenance": [],
      "authorship_tag": "ABX9TyP4q2QTQdX9zDdKFksoYrjQ",
      "include_colab_link": true
    },
    "kernelspec": {
      "name": "python3",
      "display_name": "Python 3"
    },
    "language_info": {
      "name": "python"
    }
  },
  "cells": [
    {
      "cell_type": "markdown",
      "metadata": {
        "id": "view-in-github",
        "colab_type": "text"
      },
      "source": [
        "<a href=\"https://colab.research.google.com/github/ashutoshbhardwaj/hello-world/blob/master/OOP_questions.ipynb\" target=\"_parent\"><img src=\"https://colab.research.google.com/assets/colab-badge.svg\" alt=\"Open In Colab\"/></a>"
      ]
    },
    {
      "cell_type": "code",
      "metadata": {
        "id": "NsRn5pCNeZeA"
      },
      "source": [
        "import pandas as pd"
      ],
      "execution_count": null,
      "outputs": []
    },
    {
      "cell_type": "code",
      "metadata": {
        "id": "ZBvdvcfFebOF"
      },
      "source": [
        "!pip install spyder   "
      ],
      "execution_count": null,
      "outputs": []
    },
    {
      "cell_type": "code",
      "metadata": {
        "id": "0iLB1jzNfHcO",
        "colab": {
          "base_uri": "https://localhost:8080/"
        },
        "outputId": "ad168e1b-a9a4-45cc-daa3-33de8893a42f"
      },
      "source": [
        "import uuid\n",
        " \n",
        " \n",
        "class Product:\n",
        " \n",
        "    def __init__(self, product_name, price):\n",
        "        self.product_id = self.get_id()\n",
        "        self.product_name = product_name\n",
        "        self.price = price\n",
        " \n",
        "    def __repr__(self):\n",
        "        return f\"Product(product_name='{self.product_name}', price={self.price})\"\n",
        " \n",
        "    @staticmethod\n",
        "    def get_id():\n",
        "        return str(uuid.uuid4().fields[-1])[:6]\n",
        " \n",
        " \n",
        "for name in Product.__dict__:\n",
        "    print(name)"
      ],
      "execution_count": 2,
      "outputs": [
        {
          "output_type": "stream",
          "text": [
            "__module__\n",
            "__init__\n",
            "__repr__\n",
            "get_id\n",
            "__dict__\n",
            "__weakref__\n",
            "__doc__\n"
          ],
          "name": "stdout"
        }
      ]
    },
    {
      "cell_type": "markdown",
      "metadata": {
        "id": "NREssYt_fZux"
      },
      "source": [
        "# New section"
      ]
    },
    {
      "cell_type": "code",
      "metadata": {
        "colab": {
          "base_uri": "https://localhost:8080/"
        },
        "id": "fXezf_7ER2kX",
        "outputId": "88526f18-095d-4b03-8aca-03257700d28b"
      },
      "source": [
        "import datetime \n",
        "for item in datetime.__dict__:\n",
        "    print(item)"
      ],
      "execution_count": 3,
      "outputs": [
        {
          "output_type": "stream",
          "text": [
            "__name__\n",
            "__doc__\n",
            "__package__\n",
            "__loader__\n",
            "__spec__\n",
            "__file__\n",
            "__cached__\n",
            "__builtins__\n",
            "sys\n",
            "MINYEAR\n",
            "MAXYEAR\n",
            "timedelta\n",
            "date\n",
            "tzinfo\n",
            "time\n",
            "datetime\n",
            "timezone\n",
            "datetime_CAPI\n"
          ],
          "name": "stdout"
        }
      ]
    },
    {
      "cell_type": "code",
      "metadata": {
        "colab": {
          "base_uri": "https://localhost:8080/"
        },
        "id": "ED1SmhsrR3Ym",
        "outputId": "3638d6e4-a39c-4b5c-f1d0-5e0a5c8d6181"
      },
      "source": [
        "datetime.datetime"
      ],
      "execution_count": 4,
      "outputs": [
        {
          "output_type": "execute_result",
          "data": {
            "text/plain": [
              "datetime.datetime"
            ]
          },
          "metadata": {
            "tags": []
          },
          "execution_count": 4
        }
      ]
    },
    {
      "cell_type": "code",
      "metadata": {
        "id": "CIYdAd7fSCZB"
      },
      "source": [
        "import datetime \n",
        "for item in datetime.__dict__:\n",
        "    print(item)"
      ],
      "execution_count": null,
      "outputs": []
    }
  ]
}